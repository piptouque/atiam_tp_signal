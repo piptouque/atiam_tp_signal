{
 "cells": [
  {
   "cell_type": "markdown",
   "metadata": {},
   "source": [
    "# NMF Practical Work\n",
    "\n",
    "**Umut Simsekli** \n",
    "\n",
    "Telecom Paris"
   ]
  },
  {
   "cell_type": "markdown",
   "metadata": {},
   "source": [
    "## 1. Factorisation en matrices positives avec la $\\beta$-divergence"
   ]
  },
  {
   "cell_type": "markdown",
   "metadata": {},
   "source": [
    "$$\n",
    "\\begin{aligned}\n",
    "\\left ( {W*}, {H*} \\right ) &= argmin_{W \\leq 0, H \\leq 0} \\sum_{i=1}^{I} \\sum_{j=1}^J d_{\\beta}(x_{ij} || \\hat{x}_{ij})\n",
    "\\\\\n",
    "\\end{aligned}\n",
    "$$\n",
    "$$\n",
    "\\begin{aligned}\n",
    "S &= \\sum_{i=1}^{I} \\sum_{j=1}^J d_{\\beta}(x_{ij} || \\hat{x}_{ij})\n",
    "\\\\\n",
    "&= \\sum_{i=1}^{I} \\sum_{j=1}^J d_{\\beta}(x_{ij} || \\hat{x}_{ij})\n",
    "\\\\\n",
    "\\frac{\\partial d_{\\beta}(x_{ij} || \\hat{x_{ij}})}{\\partial w_{ik}} &= \\hat{x}_{ij}^{\\beta -1} - x_{ij}\\hat{x_{ij}}^{\\beta - 2}\n",
    "\\\\\n",
    "\\frac{\\partial d_{\\beta}(x || \\hat{x})}{\\partial w_{ik}} &= \\sum_{J=1}^{J} h_{kj} \\left ( \\hat{x}_{ij}^{\\beta -1} - x_{ij}\\hat{x_{ij}}^{\\beta  - 2} \\right )\n",
    "\\\\\n",
    "&= \\left ( \\sum_{j=1}^{J} h_{kj} \\hat{x}_{ij}^{\\beta - 1} \\right ) - \\left ( \\sum_{j=1}^{J} h_{kj} x_{ij} \\hat{x}{ij}^{\\beta - 2} \\right )\n",
    "&= p_{ik} - m_{ik}\n",
    "\\end{aligned}\n",
    "$$\n",
    "Avec $p_{ik}, m_{ik} \\geq 0$, on sait mettre à jour $W$ et $H$ de la sorte :\n",
    "$$\n",
    "\\begin{aligned}\n",
    "w_{ik} & \\leftarrow w_{ik} \\frac{m_{ik}}{p_{ik}}\n",
    "\\\\\n",
    "w_{ik} & \\leftarrow w_{ik} \\frac{\\sum_{j=1}^{J} x_{ij}\\hat{x_{ij} }^{\\beta - 2} h_{kj}}{\\sum_{j=1}^{J} \\hat{x}_{ij}^{\\beta -1} h_{kj}}\n",
    "\\\\\n",
    "h_{kj} & \\leftarrow h_{kj} \\frac{\\sum_{i=1}^{I} x_{ij}\\hat{x_{ij} }^{\\beta - 2} w_{ik}}{\\sum_{i=1}^{I} \\hat{x}_{ij}^{\\beta -1} w_{ik}}\n",
    "\\end{aligned}\n",
    "$$"
   ]
  },
  {
   "cell_type": "markdown",
   "metadata": {},
   "source": [
    "On doit choisir la fenêtre de Hann (largueur $4/M$ dans Fourier)\n",
    "avec une longueur temporelle $M$ telle que l'on a $M=80 / f_e$."
   ]
  },
  {
   "cell_type": "markdown",
   "metadata": {},
   "source": []
  },
  {
   "cell_type": "markdown",
   "metadata": {},
   "source": [
    "## 2. Variantes autour d'un exemple simple\n",
    "\n",
    "### 2. 1 Construction de l'exemple simple"
   ]
  },
  {
   "cell_type": "code",
   "execution_count": null,
   "metadata": {},
   "outputs": [],
   "source": [
    "import numpy as np\n",
    "import numpy.typing as npt\n",
    "\n",
    "# matplotlib for displaying the output\n",
    "import matplotlib.pyplot as plt\n",
    "import matplotlib.style as ms\n",
    "ms.use('seaborn-muted')\n",
    "%matplotlib inline\n",
    "\n",
    "# and IPython.display for audio output\n",
    "import IPython.display as ipd\n",
    "\n",
    "# Librosa for audio\n",
    "import librosa\n",
    "# # And the display module for visualization\n",
    "import librosa.display\n"
   ]
  },
  {
   "cell_type": "code",
   "execution_count": null,
   "metadata": {},
   "outputs": [],
   "source": [
    "# Audio file\n",
    "fname = 'Cmajor_piano8khz.wav'\n",
    "\n",
    "# Load signal\n",
    "y, sr = librosa.load(fname)\n",
    "\n",
    "# Compute STFT\n",
    "Xstft = librosa.stft(y, n_fft=2048, hop_length=512, win_length=None)\n",
    "X = np.abs(Xstft)\n",
    "\n",
    "#Visualize the waveform\n",
    "plt.figure()\n",
    "plt.figure(figsize=(14, 5))\n",
    "librosa.display.waveplot(y, sr=sr)\n",
    "\n",
    "#Visualize the spectrum\n",
    "plt.figure()\n",
    "plt.imshow(X**0.3)\n",
    "plt.gca().invert_yaxis()\n"
   ]
  },
  {
   "cell_type": "code",
   "execution_count": null,
   "metadata": {},
   "outputs": [],
   "source": [
    "# Implement MUR for NMF with beta-divergence \n",
    "\n"
   ]
  },
  {
   "cell_type": "code",
   "execution_count": null,
   "metadata": {},
   "outputs": [],
   "source": [
    "# Use Wiener filtering to reconstruct each note separately\n",
    "\n",
    "\n",
    "# Example reconstruction\n",
    "y_hat = librosa.istft(Xstft)\n",
    "ipd.Audio(y_hat, rate=sr)\n"
   ]
  },
  {
   "cell_type": "code",
   "execution_count": null,
   "metadata": {},
   "outputs": [],
   "source": []
  }
 ],
 "metadata": {
  "interpreter": {
   "hash": "84373995aafbcce26432dfc68e1e75ff7ed8166ee4aef3a2f2cf080eb133f7d7"
  },
  "kernelspec": {
   "display_name": "Python 3.7.10 64-bit ('env_signal': conda)",
   "name": "python3"
  },
  "language_info": {
   "codemirror_mode": {
    "name": "ipython",
    "version": 3
   },
   "file_extension": ".py",
   "mimetype": "text/x-python",
   "name": "python",
   "nbconvert_exporter": "python",
   "pygments_lexer": "ipython3",
   "version": "3.7.10"
  }
 },
 "nbformat": 4,
 "nbformat_minor": 2
}
