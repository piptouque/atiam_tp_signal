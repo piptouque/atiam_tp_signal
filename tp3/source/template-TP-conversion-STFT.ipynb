{
 "cells": [
  {
   "cell_type": "markdown",
   "metadata": {},
   "source": [
    "# Template for Practical work on the Conversion of sampling frequency and STFT\n",
    "\n",
    "\n",
    "*From R. Badeau and G. Richard (with help from P. Vernhet), MAJ:2020*\n",
    "\n",
    "**python version : 3.6**"
   ]
  },
  {
   "cell_type": "code",
   "execution_count": null,
   "metadata": {},
   "outputs": [],
   "source": [
    "%load_ext autoreload\n",
    "%autoreload 2\n",
    "import os, sys, wave, struct\n",
    "import timeit\n",
    "import numpy as np\n",
    "import pyaudio\n",
    "import pandas as pd\n",
    "import matplotlib.pyplot as plt\n",
    "%matplotlib inline\n",
    "import scipy.signal as sig\n",
    "from typing import Callable\n",
    "import util as ut\n",
    "\n",
    "\n",
    "from copy import deepcopy\n",
    "from math import ceil\n",
    "from scipy.io.wavfile import write\n",
    "from fractions import Fraction\n"
   ]
  },
  {
   "cell_type": "markdown",
   "metadata": {},
   "source": [
    "## Functions"
   ]
  },
  {
   "cell_type": "code",
   "execution_count": null,
   "metadata": {},
   "outputs": [],
   "source": [
    "def load_sound(file):\n",
    "    return wave.open(file, 'rb')\n",
    "\n",
    "\n",
    "def play_sound(file, chunk = 1024):\n",
    "    \"\"\"\n",
    "    Script from PyAudio doc\n",
    "    \"\"\"\n",
    "    wf = load_sound(file)\n",
    "    p = pyaudio.PyAudio()\n",
    "    stream = p.open(format=p.get_format_from_width(wf.getsampwidth()),\n",
    "                    channels=wf.getnchannels(),\n",
    "                    rate=wf.getframerate(),\n",
    "                    output=True)\n",
    "    data = wf.readframes(chunk)\n",
    "\n",
    "    while data:\n",
    "        stream.write(data)\n",
    "        data = wf.readframes(chunk )\n",
    "\n",
    "    stream.stop_stream()\n",
    "    stream.close()\n",
    "    p.terminate()\n",
    "\n",
    "def play_sound_bad(file):\n",
    "    os.system(f\"/usr/bin/play {file} &\")\n",
    "    \n",
    "    \n",
    "def plot_sound(data, times, name='default_name', save=False):\n",
    "    plt.figure(figsize=(30, 4))\n",
    "    plt.fill_between(times, data)\n",
    "    plt.xlim(times[0], times[-1])\n",
    "    plt.xlabel('time (s)')\n",
    "    plt.ylabel('amplitude')\n",
    "    if save:\n",
    "        plt.savefig(name+'.png', dpi=100)\n",
    "    plt.show()"
   ]
  },
  {
   "cell_type": "markdown",
   "metadata": {},
   "source": [
    "## Reading and playing .wav file"
   ]
  },
  {
   "cell_type": "markdown",
   "metadata": {},
   "source": [
    "Choose the name of sound for the rest of the notebook. Sounds are assumed to be set in a folder named 'sons_mutltipitch' (same directory as notebook)."
   ]
  },
  {
   "cell_type": "code",
   "execution_count": null,
   "metadata": {},
   "outputs": [],
   "source": [
    "data_path = os.getcwd()\n",
    "filename = 'caravan_48khz.wav'\n",
    "sound = os.path.join(data_path, filename) "
   ]
  },
  {
   "cell_type": "markdown",
   "metadata": {},
   "source": [
    "### **Using wave**"
   ]
  },
  {
   "cell_type": "code",
   "execution_count": null,
   "metadata": {},
   "outputs": [],
   "source": [
    "wavefile = load_sound(sound)\n",
    "print(wavefile.getparams())"
   ]
  },
  {
   "cell_type": "code",
   "execution_count": null,
   "metadata": {},
   "outputs": [],
   "source": [
    "play = True\n",
    "if play :\n",
    "    play_sound_bad(sound) "
   ]
  },
  {
   "cell_type": "code",
   "execution_count": null,
   "metadata": {},
   "outputs": [],
   "source": [
    "Fs = int(wavefile.getframerate())\n",
    "num_samples = int(wavefile.getnframes())\n",
    "data = wavefile.readframes(num_samples)\n",
    "data = struct.unpack('{n}h'.format(n=num_samples), data)\n",
    "x = np.array(data)"
   ]
  },
  {
   "cell_type": "code",
   "execution_count": null,
   "metadata": {},
   "outputs": [],
   "source": [
    "timestep = 1/float(Fs)\n",
    "times = np.arange(len(x))*timestep\n",
    "plot_sound(x, times)"
   ]
  },
  {
   "cell_type": "code",
   "execution_count": null,
   "metadata": {},
   "outputs": [],
   "source": [
    "write('new_caravan.wav', Fs, np.array(x, dtype=np.int16)) # to write a new wave file"
   ]
  },
  {
   "cell_type": "markdown",
   "metadata": {},
   "source": [
    "## Signal analysis with the STFT"
   ]
  },
  {
   "cell_type": "code",
   "execution_count": null,
   "metadata": {},
   "outputs": [],
   "source": [
    "N = x.shape[0] # % longueur du signal\n",
    "Nw = 512\n",
    "w = np.hanning(Nw) # définition de la fenetre d'analyse\n",
    "ws = w.copy; # définition de la fenêtre de synthèse\n",
    "R = Nw/4 # incrément sur les temps d'analyse, appelé hop size, t_a=uR\n",
    "M = 512 # ordre de la tfd\n",
    "L = M/2+1\n",
    "affich = 1 ; # pour affichage du spectrogramme, 0 pour\n",
    "             # pour faire analyse/modif/synthèse sans affichage\n",
    "             # note: cf. spectrogram sous Matlab\n",
    "Nt = np.rint((N - Nw) / R) # calcul du nombre de tfd à calculer\n",
    "Nt = Nt.astype(int)\n",
    "y = np.zeros((N,1)) # signal de synthèse\n",
    "\n",
    "if affich:\n",
    "    Xtilde = np.zeros((M,Nt),dtype=complex)"
   ]
  },
  {
   "cell_type": "code",
   "execution_count": null,
   "metadata": {},
   "outputs": [],
   "source": [
    "for u in np.arange(0,Nt).reshape(-1): # boucle sur les trames\n",
    "    deb = u * R + 1 # début de trame\n",
    "    fin = deb + Nw # fin de trame\n",
    "    tx = np.multiply(x[np.arange(deb.astype(int),fin.astype(int))],w) # calcul de la trame \n",
    "    X = np.fft.fft(tx,M) # tfd à l'instant b\n",
    "    if affich:\n",
    "        Xtilde[:,u] = X\n",
    "    # opérations de transformation (sur la partie \\nu > 0)\n",
    "    # ....\n",
    "    Y = X.copy\n",
    "    # fin des opérations de transformation\n",
    "    # resynthèse\n",
    "    # overlap add\n",
    "\n",
    "def extents(f):\n",
    "  delta = f[1] - f[0]\n",
    "  return [f[0] - delta/2, f[-1] + delta/2]"
   ]
  },
  {
   "cell_type": "code",
   "execution_count": null,
   "metadata": {},
   "outputs": [],
   "source": [
    "if affich:\n",
    "    plt.imshow(20*np.log10(np.abs(Xtilde[np.arange(0, L, dtype=int),:])), aspect='auto',interpolation='none',\n",
    "               origin='lower', extent=[0, Nt * R / Fs + Nw / 2, 0, Fs/2])\n",
    "    "
   ]
  },
  {
   "cell_type": "markdown",
   "metadata": {},
   "source": [
    "## Overlap-add reconstruction"
   ]
  },
  {
   "cell_type": "code",
   "execution_count": null,
   "metadata": {},
   "outputs": [],
   "source": [
    "def ola(w = None,hop = None,Nb = 10): \n",
    "# function output = ola(w,hop,Nb)\n",
    "# realise l'addition-recouvrement de la fenetre w,\n",
    "# avec un décalage hop et un nombre Nb de fenetres.\n",
    "# par defaut Nb = 10;\n",
    "    \n",
    "    w = w[:, np.newaxis]\n",
    "    N = len(w)\n",
    "    output = np.zeros(((Nb - 1) * hop + N,1)) # réserve l'espace memoire\n",
    "    \n",
    "    for k in np.arange(0,Nb).reshape(-1):\n",
    "        deb = k* hop\n",
    "        fin = deb + N\n",
    "        output[np.arange(deb,fin)] = output[np.arange(deb,fin)] + w # OLA\n",
    "    \n",
    "    return output"
   ]
  },
  {
   "cell_type": "markdown",
   "metadata": {},
   "source": [
    "## 2. Conversion de fréquence d'échantillonnage "
   ]
  },
  {
   "cell_type": "code",
   "execution_count": null,
   "metadata": {},
   "outputs": [],
   "source": [
    "def plot_response(fs, width: float, h, title, log=True):\n",
    "    \"\"\"[summary]\n",
    "    Utility function to plot response functions\n",
    "    Taken from:  https://docs.scipy.org/doc/scipy/reference/generated/scipy.signal.remez.html\n",
    "    \"\"\"\n",
    "    fig = plt.figure()\n",
    "    ax = fig.add_subplot(111)\n",
    "    data = 20*np.log10(np.abs(h)) if log else np.abs(h)\n",
    "    ax.plot(0.5*fs*width/np.pi, data)\n",
    "    ylim = (-80, np.max(data)) if log else (0, np.max(data))\n",
    "    ax.set_ylim(*ylim)\n",
    "    ax.set_xlim(0, 0.5*fs)\n",
    "    ax.grid(True)\n",
    "    ax.set_xlabel('Frequency (Hz)')\n",
    "    ylab = \"Gain (dB)\" if log else \"Value\"\n",
    "    ax.set_ylabel(ylab)\n",
    "    ax.set_title(title)\n"
   ]
  },
  {
   "cell_type": "markdown",
   "metadata": {},
   "source": [
    "### Question 1\n",
    "\n",
    "Il faut opérer un sous-échantillonnage et un sur-échantillonnage, \n",
    "en appliquant au préalable un filtre passe-bas pour éviter du repliement.\n",
    "\n",
    "On aura donc :\n",
    "- un filtre décimateur $\\downarrow M$,\n",
    "- un filtre ajoutant des zéros $\\uparrow L$,\n",
    "- un filtre passe-bas $H(e^{2j\\pi\\nu}) = L 1_{[-\\nu_c, \\nu_c]}$ avec $\\nu_c = min(\\frac{1}{2L}, \\frac{1}{2M})$\n",
    "\n",
    "$$\n",
    "\\longrightarrow \\uparrow L \\longrightarrow H \\longrightarrow \\downarrow M\n",
    "$$"
   ]
  },
  {
   "cell_type": "markdown",
   "metadata": {},
   "source": [
    "### Question 3\n",
    "\n",
    "![question_3](../doc/q3.png)\n",
    "\n",
    "### Question 4\n",
    "\n",
    "![question_4](../doc/q4.png)"
   ]
  },
  {
   "cell_type": "code",
   "execution_count": null,
   "metadata": {},
   "outputs": [],
   "source": [
    "fs_1 = 48000 # fréquence d'échantillonnage d'entrée\n",
    "fs_2 = 32000 # fréquence d'échantillonnage de sortie\n",
    "\n",
    "frac = Fraction(fs_2, fs_1)\n",
    "\n",
    "\n",
    "# Calcul de L, M, et nu_c\n",
    "# Contraintes indépendantes de l'implémentation\n",
    "l = frac.numerator\n",
    "m = frac.denominator"
   ]
  },
  {
   "cell_type": "code",
   "execution_count": null,
   "metadata": {},
   "outputs": [],
   "source": [
    "\n",
    "def get_h(l: int, m: int, delta_1: float, delta_2: float) -> np.ndarray:\n",
    "    # Calculs des caractéristiques du filtre H en pratique IIR par l'algorithme de Remez.\n",
    "    nu_a = min(1/(2*l), 1/(2*m)) # notre nu_c sera en fait un nu_a pour Remez\n",
    "    # Calculs des caractéristiques du filtre H en pratique IIR par l'algorithme de Remez.\n",
    "    w_h = nu_a * 0.1\n",
    "    nu_c = nu_a - w_h # width_h = 0.02 # longueur du transitoire\n",
    "    # On appliquera le filtre H passe-bas APRÈS la décimation,\n",
    "    order_h = int(np.round(2/(3*(nu_a - nu_c))*np.log10(10*delta_1*delta_2)))\n",
    "    # print(f\"Ordre de h={order_h}\")\n",
    "    coef_h = sig.remez(order_h, [0, nu_c, nu_a, .5], [l, 0])\n",
    "    freqs, h = sig.freqz(coef_h, [1])\n",
    "    return freqs, h\n",
    "\n",
    "delta_1 = 10 # dB\n",
    "delta_2 = 10\n",
    "freqs, h = get_h(l, m, delta_1, delta_2)\n",
    "plot_response(1, freqs, h, \"Filtre H synthétisé avec l'algorithme de Remez\", log=False)"
   ]
  },
  {
   "cell_type": "markdown",
   "metadata": {},
   "source": [
    "Avec $\\nu_a = 0.0045$, on arrive bien à avoir $-50dB$ d'atténuation entre bande passante "
   ]
  },
  {
   "cell_type": "markdown",
   "metadata": {},
   "source": [
    "### Implémentation"
   ]
  },
  {
   "cell_type": "code",
   "execution_count": null,
   "metadata": {},
   "outputs": [],
   "source": [
    "def downsampler(m):\n",
    "   return lambda x: np.copy(x[::m]) \n",
    "\n",
    "def upsampler(l):\n",
    "    def up(x):\n",
    "        x_c = np.zeros((x.shape[0] * l, * x.shape[1:]))\n",
    "        r = np.arange(0, l*x.shape[0], l)\n",
    "        x_c[r] = x\n",
    "        return x_c\n",
    "    return up\n",
    "\n",
    "def resample_direct(x: np.ndarray, fs_1: float, fs_2: float) -> np.ndarray:\n",
    "    frac = Fraction(fs_2, fs_1)\n",
    "\n",
    "    # Calcul de L, M, et nu_c\n",
    "    # Contraintes indépendantes de l'implémentation\n",
    "    l = frac.numerator\n",
    "    m = frac.denominator\n",
    "\n",
    "    delta_1 = 10\n",
    "    delta_2 = 10\n",
    "    _, h = get_h(l, m, delta_1, delta_2)\n",
    "\n",
    "    down = downsampler(m)\n",
    "    up = upsampler(l)\n",
    "\n",
    "    return down(np.convolve(up(x), h))"
   ]
  },
  {
   "cell_type": "code",
   "execution_count": null,
   "metadata": {},
   "outputs": [],
   "source": [
    "y = resample_direct(x, fs_1, fs_2)\n",
    "print(y.shape)"
   ]
  },
  {
   "cell_type": "code",
   "execution_count": null,
   "metadata": {},
   "outputs": [],
   "source": [
    "\n",
    "timestep = 1/float(fs_2)\n",
    "times = np.arange(len(y))*timestep\n",
    "plot_sound(y, times)\n",
    "play = True\n",
    "if play:\n",
    "    ut.play(y, fs_2)"
   ]
  },
  {
   "cell_type": "code",
   "execution_count": null,
   "metadata": {},
   "outputs": [],
   "source": [
    "def delay(x: np.ndarray, n: int) -> np.ndarray:\n",
    "    y = np.empty_like(x)\n",
    "    y[:n] = 0\n",
    "    y[n:] = x[n:]\n",
    "    return y\n",
    "\n",
    "def delay_z(x_z: np.ndarray, n: int) -> np.ndarray:\n",
    "    z = np.exp(2 * j * np.pi)\n",
    "    return x_z * (z ** n)\n",
    "\n",
    "def resample_efficient(x: np.ndarray, fs_1: float, fs_2: float) -> np.ndarray:\n",
    "    frac = Fraction(fs_2, fs_1)\n",
    "\n",
    "    # Calcul de L, M, et nu_c\n",
    "    # Contraintes indépendantes de l'implémentation\n",
    "    l = frac.numerator\n",
    "    m = frac.denominator\n",
    "\n",
    "    delta_1 = 10\n",
    "    delta_2 = 10\n",
    "    _, h = get_h(l, m, delta_1, delta_2)\n",
    "\n",
    "    down = downsampler(m)\n",
    "    up = upsampler(l)\n",
    "\n",
    "    # On peut remarquer que la formule fonctionne pour tout l et m.\n",
    "    r = ut.polyphase_ii(h, l)\n",
    "    a = np.empty((l, ((x.shape[0]+1)//m + r.shape[1]//m - 1)*l))\n",
    "    for k in range(l):\n",
    "        e_r = ut.polyphase_i(r[k], m)\n",
    "        b = np.array([np.convolve(down(delay(x, j)), e_r[j]) for j in np.arange(m)])\n",
    "        a[k] = delay(up(np.sum(b, axis=0)), l - 1 - k)\n",
    "    y = np.sum(a, axis=0)\n",
    "    return y\n",
    "\n",
    "def resample_efficient_z(x: np.ndarray, fs_1: float, fs_2: float) -> np.ndarray:\n",
    "    frac = Fraction(fs_2, fs_1)\n",
    "\n",
    "    # Calcul de L, M, et nu_c\n",
    "    # Contraintes indépendantes de l'implémentation\n",
    "    l = frac.numerator\n",
    "    m = frac.denominator\n",
    "\n",
    "    delta_1 = 10\n",
    "    delta_2 = 10\n",
    "    _, h = get_h(l, m, delta_1, delta_2)\n",
    "    \n",
    "\n",
    "    down = downsampler(m)\n",
    "    up = upsampler(l)\n",
    "\n",
    "    # On peut remarquer que la formule fonctionne pour tout l et m.\n",
    "    r = ut.polyphase_ii(h, l)\n",
    "    a = np.empty((l, ((x.shape[0]+1)//m + r.shape[1]//m - 1)*l))\n",
    "    for k in range(l):\n",
    "        e_r = ut.polyphase_i(r[k], m)\n",
    "        b = np.array([np.convolve(down(delay(x, j)), e_r[j]) for j in np.arange(m)])\n",
    "        a[k] = delay(up(np.sum(b, axis=0)), l - 1 - k)\n",
    "    y = np.sum(a, axis=0)\n",
    "    return y"
   ]
  },
  {
   "cell_type": "code",
   "execution_count": null,
   "metadata": {},
   "outputs": [],
   "source": [
    "y = resample_efficient(x, fs_1, fs_2)"
   ]
  },
  {
   "cell_type": "code",
   "execution_count": null,
   "metadata": {},
   "outputs": [],
   "source": [
    "timestep = 1/float(fs_2)\n",
    "times = np.arange(len(y))*timestep\n",
    "plot_sound(y, times)\n",
    "play = True\n",
    "if play:\n",
    "    ut.play(y, fs_2)"
   ]
  },
  {
   "cell_type": "code",
   "execution_count": null,
   "metadata": {},
   "outputs": [],
   "source": [
    "t_direct = timeit.timeit(lambda : resample_direct(x, fs_1, fs_2), number=10)\n",
    "t_eff = timeit.timeit(lambda : resample_efficient(x, fs_1, fs_2), number=10)\n",
    "print(f\"Direct: {t_direct}s -- Efficient: {t_eff}s\")"
   ]
  },
  {
   "cell_type": "markdown",
   "metadata": {},
   "source": [
    "À l'oreille, le résultat est moins bon dans l'implémentation efficace, mais le temps de calcul est moindre. On pourra choisir entre les deux selon la contrainte la plus importante entre qualité et temps."
   ]
  },
  {
   "cell_type": "markdown",
   "metadata": {},
   "source": [
    "## 3. Égalisation audio par TFCT"
   ]
  },
  {
   "cell_type": "code",
   "execution_count": null,
   "metadata": {},
   "outputs": [],
   "source": [
    "n_w = 80\n",
    "m_w = n_w + 10\n",
    "w = sig.windows.hann(n_w)\n",
    "w_ft = np.fft.fft(w, n=m_w)\n",
    "w_ft_log = 20 * np.log10(np.abs(w_ft))\n",
    "plt.plot(np.fft.fftfreq(m_w), np.abs(w_ft_log))"
   ]
  },
  {
   "cell_type": "markdown",
   "metadata": {},
   "source": [
    "Soit $w$ la fenêtre de Hann de longueur $N_w$, on a :\n",
    "$$\n",
    "w(n) = \\frac{1}{2} \\left (1 - \\cos(\\frac{2 \\pi n}{N_w-1}) \\right)\n",
    "$$\n",
    "\n",
    "La largeur du lobe principal est $\\frac{4}{N_w}$."
   ]
  },
  {
   "cell_type": "markdown",
   "metadata": {},
   "source": [
    "\n",
    "$$\n",
    "W_X(\\lambda, b) = \\sum_{n\\in\\Z} x(n) w(n-b)e^{-2j\\pi \\lambda n}\n",
    "= \\left (x * h \\right )(b) e^{2j\\pi \\lambda b}\n",
    "$$\n",
    "Avec :\n",
    "$$\n",
    "h(n) = w(-n)e^{2j\\pi \\lambda n} = w(n)e^{2j\\pi \\lambda n}\n",
    "$$\n",
    "$$\n",
    "H_R(\\nu)= TF(h)(\\nu) = \\sum_{n} w(n) e^{-2j\\pi n(\\nu - \\lambda)} = W(\\nu - \\lambda)\n",
    "\\\\\n",
    "H(\\nu) = H_N(\\nu) e^{2j\\pi\\lambda b}\n",
    "$$\n",
    "\n",
    "Il s'agit d'un filtrage par $H$, un filtre  passe-bas. \n",
    "Il serait RIF à phase linéaire (en fait constante) si l'on ignore \n",
    "le déphasage de $H_R$ de $\\lambda$. \n",
    "$$\n",
    "d = e^{2j\\pi \\lambda b}\n",
    "$$\n",
    "Si $\\lambda b \\equiv 0 [\\frac{\\pi}{2}]$ alors $d=1$, \n",
    "si $\\lambda b \\equiv \\frac{\\pi}{8}  [\\frac{\\pi}{2}]$ alors $d=i$.\n",
    "$w$ est paire (symétrique), donc si sa longueur est paire, $H$ est de type II,\n",
    "sinon $H$ est de type I.\n"
   ]
  },
  {
   "cell_type": "markdown",
   "metadata": {},
   "source": [
    "On a :\n",
    "$$\n",
    "\\tilde{X}(\\lambda, b) = (x * h)(b) = W_X(x, b) e^{-2j\\pi\\lambda b}\n",
    "$$"
   ]
  },
  {
   "cell_type": "code",
   "execution_count": null,
   "metadata": {},
   "outputs": [],
   "source": [
    "def stft_comp(x: np.ndarray, w: np.ndarray, m: int, r: int) -> Callable[[int, int], np.ndarray]:\n",
    "    def x_tilde(k: int, u: int) -> np.ndarray:\n",
    "        n = np.arange(min(len(w), len(x) - u * r))\n",
    "        x_p = x[n + u * r]\n",
    "        return np.sum(x_p * w * np.exp(-2j * np.pi * k * n / m))\n",
    "\n",
    "    return x_tilde\n",
    "\n",
    "Nw = 512\n",
    "w = np.hanning(Nw) # définition de la fenetre d'analyse\n",
    "r = 1 # incrément sur les temps d'analyse, appelé hop size, t_a=uR\n",
    "m = 32 # ordre de la tfd\n",
    "k = 3\n",
    "comp = stft_comp(x, w, m, r)\n",
    "# 400 premiers échantillons pour un calcul plus rapide.\n",
    "# attention : affreusement long autrement.\n",
    "ts = np.arange(800000) \n",
    "x_k = np.array([comp(k, u) for u in ts])"
   ]
  },
  {
   "cell_type": "code",
   "execution_count": null,
   "metadata": {},
   "outputs": [],
   "source": [
    "# f, t, spectrum = sig.spectrogram(x_k)\n",
    "# plt.pcolormesh(t, f, np.abs(spectrum))\n",
    "play = False\n",
    "if play:\n",
    "    ut.play(x_k.real)"
   ]
  },
  {
   "cell_type": "markdown",
   "metadata": {},
   "source": [
    "$x_k$ est complexe, et correspond bien à une bande de fréquence de x"
   ]
  },
  {
   "cell_type": "markdown",
   "metadata": {},
   "source": [
    "## 3.2 Reconstruction"
   ]
  },
  {
   "cell_type": "markdown",
   "metadata": {},
   "source": [
    "Par le calcul, on trouve :\n",
    "$$\n",
    "y(n) = \\frac{1}{M} \\sum_{k=0}^{M-1} x(n) \\sum_{u \\in \\Z} w(n - uR)w_s(n-uR)\n",
    "= \\frac{1}{M} \\sum_{k=0}^{M-1} x(n)f(n)\n",
    "$$\n",
    "Soit si $f(n) = 1 \\forall n$ alors $y(n) = x(n)$."
   ]
  },
  {
   "cell_type": "code",
   "execution_count": 26,
   "metadata": {},
   "outputs": [],
   "source": [
    "\n",
    "n_w = 512\n",
    "w_s = sig.windows.hann(n_w)\n",
    "w_aux = np.pad(w, (x.shape[0]*r, x.shape[0]*r))\n",
    "w_norm = np.array([np.sum(w_aux[i - np.arange(x.shape[0]) * r]) for i in np.arange(x.shape[0])])\n",
    "w_p = w_aux / w_norm\n",
    "w_p = w_p[x.shape[0]*r:-x.shape[0]*r]\n",
    "\n",
    "r = n_w//4 # Recouvrement de 75%\n",
    "\n",
    "y = ola(w_p, r)\n",
    "\n",
    "err = np.linalg.norm(x - y)\n",
    "print(err)"
   ]
  },
  {
   "cell_type": "markdown",
   "metadata": {},
   "source": [
    "## 3.3 Égaliseur Audio à TFCT"
   ]
  },
  {
   "cell_type": "code",
   "execution_count": null,
   "metadata": {},
   "outputs": [],
   "source": [
    "def equalise_stft(x: np.ndarray, w: np.ndarray, weights: np.ndarray, m: int, r: int) -> np.ndarray:\n",
    "    comp = stft_comp(x, w, m, r) \n",
    "    # Iy_tilde_k = np.array([comp(k, u)])\n",
    "    pass\n"
   ]
  },
  {
   "cell_type": "code",
   "execution_count": null,
   "metadata": {},
   "outputs": [],
   "source": []
  }
 ],
 "metadata": {
  "interpreter": {
   "hash": "84373995aafbcce26432dfc68e1e75ff7ed8166ee4aef3a2f2cf080eb133f7d7"
  },
  "kernelspec": {
   "display_name": "Python 3.7.10 64-bit ('env_signal': conda)",
   "name": "python3"
  },
  "language_info": {
   "codemirror_mode": {
    "name": "ipython",
    "version": 3
   },
   "file_extension": ".py",
   "mimetype": "text/x-python",
   "name": "python",
   "nbconvert_exporter": "python",
   "pygments_lexer": "ipython3",
   "version": "3.7.10"
  }
 },
 "nbformat": 4,
 "nbformat_minor": 2
}
