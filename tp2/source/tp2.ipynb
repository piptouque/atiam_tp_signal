{
 "cells": [
  {
   "cell_type": "code",
   "execution_count": 88,
   "source": [
    "import numpy as np\n",
    "import matplotlib.pyplot as plt\n",
    "import matplotlib.widgets as wid\n",
    "import scipy.signal as sig\n",
    "import scipy.signal.windows as win\n",
    "import scipy \n",
    "import scipy.io\n",
    "from scipy.signal import lfilter\n",
    "\n",
    "import numpy.random as rand\n",
    "\n",
    "import util"
   ],
   "outputs": [],
   "metadata": {}
  },
  {
   "cell_type": "markdown",
   "source": [
    "## 1. Étude Théorique : Analyse du mélange de deux processus"
   ],
   "metadata": {}
  },
  {
   "cell_type": "markdown",
   "source": [
    "### Montrer que\n",
    "\n",
    "$$\n",
    "S_Z(\\nu) = S_Y(\\nu) + S_T(\\nu)\n",
    "$$"
   ],
   "metadata": {}
  },
  {
   "cell_type": "markdown",
   "source": [
    "On a $Z = h \\star X + Y$\n",
    "\n",
    "$h$ est stable, $X$ est SSL donc $T$ est SSL par le théorème de filtrage des processus SSL. Par le résultat admis, on a $T$ et $Y$ indépendants.\n",
    "\n",
    "On montre d'abord que $Z$ est SSL.\n",
    "\n",
    "1. On a, pour tout $n$,\n",
    "$$\n",
    "E(|T_n + Y_n|^2) = E(|T_n|^2 + 2 |T_nY_n| + |Y_n|^2)\n",
    "$$\n",
    "$$\n",
    "= E(|T_n|^2) + 2E(|T_nY_n|) + E(|Y_n|^2)\n",
    "$$\n",
    "Avec $T_n$ et $Y_n$ indépendants et SSL:\n",
    "$$\n",
    "= E(|T_n|^2) + E(|T_n|)E(|Y_n|) + E(|Y_n|^2) < +\\infty\n",
    "$$\n",
    "\n",
    "2. On a bien :\n",
    "$$\n",
    "E(Z_n) = E(T_n) + E(Y_n) = m_T + m_Y = m_Z, \\forall n\n",
    "$$\n",
    "\n",
    "3. On a :\n",
    "$$\n",
    "R_Z(k) = R_T(k) + R_Y(k) + E(T_{n+k}^{c}\\bar{Y_{n}^c}) + E(\\bar{T_{n}^c}Y_{n+k}^{c})\n",
    "$$\n",
    "Avec les termes de covariance nuls car $T$ et $Y$ sont indépendants :\n",
    "$$\n",
    "R_Z(k) = R_T(k) + R_Y(k)\n",
    "$$\n",
    "Ne dépend que de $k$, a fortiori :\n",
    "$$\n",
    "S_Z(\\nu) = S_T(\\nu) + S_Y(\\nu)\n",
    "$$"
   ],
   "metadata": {}
  },
  {
   "cell_type": "markdown",
   "source": [
    "### Montrer que\n",
    "\n",
    "Quelque soit la suite sommable $h^1$ et on notant $Z^1$ le processus $Z^1 = Z − h^1 ∗ X$ on a : \n",
    "\n",
    "$$\n",
    "R_{Z^1}(0) \\geq R_Y(0)\n",
    "$$\n",
    "Et si $R_{Z^1}(0) \\geq R_Y(0)$ alors $h^1 = h$.\n"
   ],
   "metadata": {}
  },
  {
   "cell_type": "markdown",
   "source": [
    "Par le calcul on a :\n",
    "$$\n",
    "R_{Z^1}(0) = R_Y(0) + R_{(h - h^1) ∗ X_n}(0) \\geq 0\n",
    "$$\n",
    "Soit :\n",
    "$$\n",
    "R_{Z^1}(0) \\geq R_Y(0)\n",
    "$$\n",
    "Et si $h^1 = h$ on obtient :\n",
    "$$\n",
    "R_{Z^1}(0) = R_Y(0) + R_{\\tilde{0} ∗ X_n}(0) = R_Y(0)\n",
    "$$"
   ],
   "metadata": {}
  },
  {
   "cell_type": "markdown",
   "source": [
    "### 1.1 Première application : Identifier un canal"
   ],
   "metadata": {}
  },
  {
   "cell_type": "code",
   "execution_count": 89,
   "source": [
    "def part_1_1(x, h, n, sigma):\n",
    "    h = np.array(h)\n",
    "    y = sigma * rand.randn(n)\n",
    "    z = lfilter(h, [1], x) + y\n",
    "    # ici on connaît p, on peut l'écrire\n",
    "    p = len(h) - 1\n",
    "    h_estimated = util.moindres_carres(p, x, z)\n",
    "    h_err = util.norm(h_estimated - h) / util.norm(h)\n",
    "    return h_estimated, h_err\n",
    "\n",
    "def print_part_1_1(x, h, n, sigma):\n",
    "    h_estimated, h_err = part_1_1(x, h, n, sigma)\n",
    "    print(f\"h = {h}\")\n",
    "    print(f\"h estimé = {h_estimated}\")\n",
    "    print(f\"Erreur = {h_err}\")\n",
    "    return x, h_estimated\n"
   ],
   "outputs": [],
   "metadata": {}
  },
  {
   "cell_type": "code",
   "execution_count": 90,
   "source": [
    "# Donnés\n",
    "h = [1, 0.5]\n",
    "#\n",
    "n = 1000\n",
    "x = rand.randn(n)\n",
    "sigmas = [0.1, 1, 10]\n",
    "for sigma in sigmas:\n",
    "    print(f\"sigma = {sigma}\")\n",
    "    print_part_1_1(x, h, n, sigma)"
   ],
   "outputs": [
    {
     "output_type": "stream",
     "name": "stdout",
     "text": [
      "sigma = 0.1\n",
      "h = [1, 0.5]\n",
      "h estimé = [1.00127024 0.50444978]\n",
      "Erreur = 0.004138991260306937\n",
      "sigma = 1\n",
      "h = [1, 0.5]\n",
      "h estimé = [0.98064827 0.48403364]\n",
      "Erreur = 0.02243949907022006\n",
      "sigma = 10\n",
      "h = [1, 0.5]\n",
      "h estimé = [1.13775729 0.34096677]\n",
      "Erreur = 0.18818850175787755\n"
     ]
    }
   ],
   "metadata": {}
  },
  {
   "cell_type": "markdown",
   "source": [
    "L'erreur semble augmenter linéairement avec $\\sigma$."
   ],
   "metadata": {}
  },
  {
   "cell_type": "code",
   "execution_count": 91,
   "source": [
    "h = [1, 0.5]\n",
    "#\n",
    "ns = np.power(2, np.arange(10, 15))  \n",
    "sigma = 10\n",
    "for n in ns:\n",
    "    x = rand.randn(n)\n",
    "    print(f\"n = {n}\")\n",
    "    print_part_1_1(x, h, n, sigma)"
   ],
   "outputs": [
    {
     "output_type": "stream",
     "name": "stdout",
     "text": [
      "n = 1024\n",
      "h = [1, 0.5]\n",
      "h estimé = [1.46364247 1.03051267]\n",
      "Erreur = 0.6301796801673246\n",
      "n = 2048\n",
      "h = [1, 0.5]\n",
      "h estimé = [0.92874463 0.52007897]\n",
      "Erreur = 0.06621475706042874\n",
      "n = 4096\n",
      "h = [1, 0.5]\n",
      "h estimé = [1.08188273 0.48080027]\n",
      "Erreur = 0.07522452015189257\n",
      "n = 8192\n",
      "h = [1, 0.5]\n",
      "h estimé = [0.86536871 0.34455981]\n",
      "Erreur = 0.18392876688676305\n",
      "n = 16384\n",
      "h = [1, 0.5]\n",
      "h estimé = [0.94384329 0.59571836]\n",
      "Erreur = 0.09925958406381377\n"
     ]
    }
   ],
   "metadata": {}
  },
  {
   "cell_type": "markdown",
   "source": [
    "On note qu'en moyenne pour $\\sigma = 10$, il faut $N = 2^{14}$ pour obtenir une erreur relative $e \\leq 0.1$.\n",
    "\n",
    "On déterminera la longueur de $h$ empiriquement.\n",
    "\n",
    "Si $h$ trop court, ça ne va pas fonctionner, si\n",
    "$h$ trop long les derniers coefficients seront nuls et on pourra réduire. On choisira $p$ tel que $h_n = 0, \\forall n \\geq p$."
   ],
   "metadata": {}
  },
  {
   "cell_type": "code",
   "execution_count": 92,
   "source": [
    "h = [1, 0.5]\n",
    "#\n",
    "ns = np.power(2, np.arange(10, 15))  \n",
    "sigma = 1\n",
    "for n in ns:\n",
    "    x = np.zeros(n)\n",
    "    x[n//2] = 1\n",
    "    print(f\"n = {n}\")\n",
    "    print_part_1_1(x, h, n, sigma)"
   ],
   "outputs": [
    {
     "output_type": "stream",
     "name": "stdout",
     "text": [
      "n = 1024\n",
      "h = [1, 0.5]\n",
      "h estimé = [1.65682936 1.48612663]\n",
      "Erreur = 1.0597624383895763\n",
      "n = 2048\n",
      "h = [1, 0.5]\n",
      "h estimé = [0.91176296 1.48356347]\n",
      "Erreur = 0.883258904400406\n",
      "n = 4096\n",
      "h = [1, 0.5]\n",
      "h estimé = [1.22093037 1.41084906]\n",
      "Erreur = 0.8383107953886136\n",
      "n = 8192\n",
      "h = [1, 0.5]\n",
      "h estimé = [-0.19970002 -2.73844652]\n",
      "Erreur = 3.088924215522525\n",
      "n = 16384\n",
      "h = [1, 0.5]\n",
      "h estimé = [1.98489729 0.48476023]\n",
      "Erreur = 0.8810243660420204\n"
     ]
    }
   ],
   "metadata": {}
  },
  {
   "cell_type": "markdown",
   "source": [
    "Prendre $X = \\delta[0]$ ne peut pas fonctionner pas car l'impulsion est absorbée dans le régime transitoire de $h$, et ne permet pas de le déterminer.\n",
    "Dans le cas plus général de $X = \\delta[a]$, la réponse impulsionnelle est absorbée par $X$, et on a le même problème."
   ],
   "metadata": {}
  },
  {
   "cell_type": "markdown",
   "source": [
    "### 1.2 Seconde application : Suppression d'un son qui en parasite un autre"
   ],
   "metadata": {}
  },
  {
   "cell_type": "code",
   "execution_count": 93,
   "source": [
    "def last_pred(pred, arr, axis, invalid_val=-1):\n",
    "    # trouver les indices des dernières valeurs vérifiant pred\n",
    "    # source : https://stackoverflow.com/a/47269413\n",
    "    mask = pred(arr)\n",
    "    val = arr.shape[axis] - np.flip(mask, axis=axis).argmax(axis=axis)\n",
    "    return np.where(mask.any(axis=axis), val, invalid_val)"
   ],
   "outputs": [],
   "metadata": {}
  },
  {
   "cell_type": "code",
   "execution_count": 94,
   "source": [
    "f_e = 44100\n",
    "mat = scipy.io.loadmat('parasite.mat')\n",
    "x_par = mat['Xparasite'].reshape(-1)\n",
    "z_par = mat['Zparasite'].reshape(-1)\n",
    "\n",
    "p_prior = 20\n",
    "h_estimated_prior = util.moindres_carres(p_prior, x_par, z_par)\n",
    "\n",
    "precision = 0.01\n",
    "p = len(h_estimated_prior) - 1 - last_pred(lambda arr: arr < precision, np.flipud(h_estimated_prior), 0)  \n",
    "h_estimated = util.moindres_carres(p, x_par, z_par)\n",
    "y = z_par - lfilter(h_estimated, [1], x_par)\n",
    "\n",
    "print(f\"p = {p}\")\n",
    "h_estimated_pad = np.pad(h_estimated, (0, len(h_estimated_prior) - len(h_estimated)))\n",
    "p_err = util.norm(h_estimated_pad - h_estimated_prior) / util.norm(h_estimated_prior)\n",
    "print(f\"Erreur relative induite par la réduction de p = {p_err}\")\n",
    "\n",
    "# util.play(z_par, f_e)\n",
    "util.play(y, f_e)"
   ],
   "outputs": [
    {
     "output_type": "stream",
     "name": "stdout",
     "text": [
      "p = 3\n",
      "Erreur relative induite par la réduction de p = 0.001483346302971116\n"
     ]
    }
   ],
   "metadata": {}
  },
  {
   "cell_type": "markdown",
   "source": [
    "## 2 Le modèle auto-régressif pour la synthèse de parole\n",
    "\n",
    "$\\epsilon_n$ est tel que :\n",
    "$$\n",
    "X_n + h_1X_{n-1} + ... + h_p X_{n-p} = \\epsilon_n\n",
    "$$"
   ],
   "metadata": {}
  },
  {
   "cell_type": "markdown",
   "source": [
    "### 2.1 Test du modèle et du programme fourni"
   ],
   "metadata": {}
  },
  {
   "cell_type": "code",
   "execution_count": 95,
   "source": [
    "def part_2_1(x, h, n, sigma):\n",
    "    h = np.array(h)\n",
    "    p = len(h) - 1\n",
    "    h_estimated = util.lpc_morceau(p, x)\n",
    "    h_err = util.norm(h_estimated - h) / util.norm(h)\n",
    "    return h_estimated, h_err\n",
    "\n",
    "def print_part_2_1(epsilon, h, n, sigma):\n",
    "    x = lfilter([1], h, epsilon)\n",
    "    h_estimated, h_err = part_2_1(x, h, n, sigma)\n",
    "    print(f\"h = {h}\")\n",
    "    print(f\"h estimé = {h_estimated}\")\n",
    "    print(f\"Erreur = {h_err}\")\n"
   ],
   "outputs": [
    {
     "output_type": "stream",
     "name": "stderr",
     "text": [
      "\n",
      "/tmp/tmphb8i7vuzSON_TP.wav:\n",
      "\n",
      " File Size: 198k      Bit Rate: 706k\n",
      "  Encoding: Signed PCM    \n",
      "  Channels: 1 @ 16-bit   \n",
      "Samplerate: 44100Hz      \n",
      "Replaygain: off         \n",
      "  Duration: 00:00:02.25  \n",
      "\n",
      "In:100%  00:00:02.25 [00:00:00.00] Out:99.2k [ -====|====- ] Hd:0.0 Clip:0    \n",
      "Done.\n"
     ]
    }
   ],
   "metadata": {}
  },
  {
   "cell_type": "code",
   "execution_count": 96,
   "source": [
    "n = 1000\n",
    "sigma = 1\n",
    "epsilon = rand.randn(n)\n",
    "\n",
    "h = np.array([1, 0.5])\n",
    "print_part_2_1(epsilon, h, n, sigma)\n",
    "\n",
    "\n",
    "h = np.array([1, 2])\n",
    "print_part_2_1(epsilon, h, n, sigma)"
   ],
   "outputs": [
    {
     "output_type": "stream",
     "name": "stdout",
     "text": [
      "h = [1.  0.5]\n",
      "h estimé = [1.         0.48571219]\n",
      "Erreur = 0.012779408774662706\n",
      "h = [1 2]\n",
      "h estimé = [ 1. nan]\n",
      "Erreur = nan\n"
     ]
    }
   ],
   "metadata": {}
  },
  {
   "cell_type": "markdown",
   "source": [
    "On trouve bien $h = [1; 0,5]$ mais pas $h = [1; 2]$.\n",
    "\n",
    "En effet, $h = [1; 0,5]$ donne $H(z) = \\frac{1}{1 + \\frac{z^{-1}}{2}}$, et $h$ est une implémentation stable et causale (racine $0,5 \\leq 0$). On peut la calculer sans problème.\n",
    "\n",
    "En revanche, $h = [1; 2]$ donne $H(z) = \\frac{1}{1 + 2z^{-1}}$ a une racine en $2$ donc notre implémentation causale n'est pas stable, et la sortie diverge."
   ],
   "metadata": {}
  },
  {
   "cell_type": "code",
   "execution_count": 102,
   "source": [
    "h = np.array([1, 0.5])\n",
    "\n",
    "x = lfilter([1], h, epsilon)\n",
    "h_estimated, h_err = part_2_1(x, h, n, sigma)\n",
    "x_p = lfilter(h_estimated, [1], x)\n",
    "\n",
    "val = np.sum(x_p ** 2) / (n * sigma ** 2)\n",
    "\n",
    "print(f\"Rapport de variance sortie / entrée = {val}\")"
   ],
   "outputs": [
    {
     "output_type": "stream",
     "name": "stdout",
     "text": [
      "Rapport de variance entrée / sortie = 1.0271523468047672\n"
     ]
    }
   ],
   "metadata": {}
  },
  {
   "cell_type": "markdown",
   "source": [
    "La valeur nous donne le rapport (approximé) des variances :\n",
    "$$\n",
    "r = \\frac{V(x)}{V(x')}\n",
    "$$\n",
    "Avec :\n",
    "$$\n",
    "x' = (h_{approx}^{-1} * h_{approx} * x)\n",
    "$$\n",
    "Où $r \\rightarrow 0$ quand $h_{approx} \\rightarrow h$."
   ],
   "metadata": {}
  },
  {
   "cell_type": "markdown",
   "source": [
    "## 3 Estimation de la densité spectrale de puissance : périodogramme"
   ],
   "metadata": {}
  },
  {
   "cell_type": "markdown",
   "source": [],
   "metadata": {}
  }
 ],
 "metadata": {
  "kernelspec": {
   "name": "python3",
   "display_name": "Python 3.7.10 64-bit ('env_signal': conda)"
  },
  "language_info": {
   "name": "python",
   "version": "3.7.10",
   "mimetype": "text/x-python",
   "codemirror_mode": {
    "name": "ipython",
    "version": 3
   },
   "pygments_lexer": "ipython3",
   "nbconvert_exporter": "python",
   "file_extension": ".py"
  },
  "interpreter": {
   "hash": "84373995aafbcce26432dfc68e1e75ff7ed8166ee4aef3a2f2cf080eb133f7d7"
  }
 },
 "nbformat": 4,
 "nbformat_minor": 5
}