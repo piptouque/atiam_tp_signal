{
 "cells": [
  {
   "cell_type": "code",
   "execution_count": 1,
   "source": [
    "import numpy as np\n",
    "import matplotlib.pyplot as plt\n",
    "import matplotlib.widgets as wid\n",
    "import scipy.signal as sig\n",
    "import scipy.signal.windows as win\n",
    "import scipy \n",
    "import scipy.io\n",
    "from scipy.signal import lfilter\n",
    "\n",
    "import numpy.random as rand\n",
    "\n",
    "import util"
   ],
   "outputs": [],
   "metadata": {}
  },
  {
   "cell_type": "markdown",
   "source": [
    "## 1. Étude Théorique : Analyse du mélange de deux processus"
   ],
   "metadata": {}
  },
  {
   "cell_type": "markdown",
   "source": [
    "### Montrer que\n",
    "\n",
    "$$\n",
    "S_Z(\\nu) = S_Y(\\nu) + S_T(\\nu)\n",
    "$$"
   ],
   "metadata": {}
  },
  {
   "cell_type": "markdown",
   "source": [
    "On a $Z = h \\star X + Y$\n",
    "\n",
    "$h$ est stable, $X$ est SSL donc $T$ est SSL par le théorème de filtrage des processus SSL. Par le résultat admis, on a $T$ et $Y$ indépendants.\n",
    "\n",
    "On montre d'abord que $Z$ est SSL.\n",
    "\n",
    "1. On a, pour tout $n$,\n",
    "$$\n",
    "E(|T_n + Y_n|^2) = E(|T_n|^2 + 2 |T_nY_n| + |Y_n|^2)\n",
    "$$\n",
    "$$\n",
    "= E(|T_n|^2) + 2E(|T_nY_n|) + E(|Y_n|^2)\n",
    "$$\n",
    "Avec $T_n$ et $Y_n$ indépendants et SSL:\n",
    "$$\n",
    "= E(|T_n|^2) + E(|T_n|)E(|Y_n|) + E(|Y_n|^2) < +\\infty\n",
    "$$\n",
    "\n",
    "2. On a bien :\n",
    "$$\n",
    "E(Z_n) = E(T_n) + E(Y_n) = m_T + m_Y = m_Z, \\forall n\n",
    "$$\n",
    "\n",
    "3. On a :\n",
    "$$\n",
    "R_Z(k) = R_T(k) + R_Y(k) + E(T_{n+k}^{c}\\bar{Y_{n}^c}) + E(\\bar{T_{n}^c}Y_{n+k}^{c})\n",
    "$$\n",
    "Avec les termes de covariance nuls car $T$ et $Y$ sont indépendants :\n",
    "$$\n",
    "R_Z(k) = R_T(k) + R_Y(k)\n",
    "$$\n",
    "Ne dépend que de $k$, a fortiori :\n",
    "$$\n",
    "S_Z(\\nu) = S_T(\\nu) + S_Y(\\nu)\n",
    "$$"
   ],
   "metadata": {}
  },
  {
   "cell_type": "markdown",
   "source": [
    "### Montrer que\n",
    "\n",
    "Quelque soit la suite sommable $h^1$ et on notant $Z^1$ le processus $Z^1 = Z − h^1 ∗ X$ on a : \n",
    "\n",
    "$$\n",
    "R_{Z^1}(0) \\geq R_Y(0)\n",
    "$$\n",
    "Et si $R_{Z^1}(0) \\geq R_Y(0)$ alors $h^1 = h$.\n"
   ],
   "metadata": {}
  },
  {
   "cell_type": "markdown",
   "source": [
    "Par le calcul on a :\n",
    "$$\n",
    "R_{Z^1}(0) = R_Y(0) + R_{(h - h^1) ∗ X_n}(0) \\geq 0\n",
    "$$\n",
    "Soit :\n",
    "$$\n",
    "R_{Z^1}(0) \\geq R_Y(0)\n",
    "$$\n",
    "Et si $h^1 = h$ on obtient :\n",
    "$$\n",
    "R_{Z^1}(0) = R_Y(0) + R_{\\tilde{0} ∗ X_n}(0) = R_Y(0)\n",
    "$$"
   ],
   "metadata": {}
  },
  {
   "cell_type": "markdown",
   "source": [
    "### 1.1 Première application : Identifier un canal"
   ],
   "metadata": {}
  },
  {
   "cell_type": "code",
   "execution_count": 8,
   "source": [
    "def part_1_1(x, h, n, sigma):\n",
    "    h = np.array(h)\n",
    "    y = sigma * rand.randn(n)\n",
    "    z = lfilter(h, [1], x) + y\n",
    "    # ici on connaît p, on peut l'écrire\n",
    "    p = len(h) - 1\n",
    "    h_estimated = util.moindres_carres(p, x, z)\n",
    "    h_err = util.norm(h_estimated - h) / util.norm(h)\n",
    "    return h_estimated, h_err\n",
    "\n",
    "def print_part_1_1(h, n, sigma):\n",
    "    x = rand.randn(n)\n",
    "    h_estimated, h_err = part_1_1(x, h, n, sigma)\n",
    "    print(f\"h = {h}\")\n",
    "    print(f\"h estimé = {h_estimated}\")\n",
    "    print(f\"Erreur = {h_err}\")\n",
    "    return x, h_estimated\n"
   ],
   "outputs": [],
   "metadata": {}
  },
  {
   "cell_type": "code",
   "execution_count": 9,
   "source": [
    "# Donnés\n",
    "h = [1, 0.5]\n",
    "#\n",
    "n = 1000\n",
    "sigmas = [0.1, 1, 10]\n",
    "for sigma in sigmas:\n",
    "    print(f\"sigma = {sigma}\")\n",
    "    print_part_1_1(h, n, sigma)"
   ],
   "outputs": [
    {
     "output_type": "stream",
     "name": "stdout",
     "text": [
      "h = [1, 0.5]\n",
      "h estimé = [1.00219951 0.49458351]\n",
      "Erreur = 0.005228856050086156\n",
      "h = [1, 0.5]\n",
      "h estimé = [0.99972888 0.45215693]\n",
      "Erreur = 0.042792831471277396\n",
      "h = [1, 0.5]\n",
      "h estimé = [1.35900324 0.05671085]\n",
      "Erreur = 0.5102067008338428\n"
     ]
    }
   ],
   "metadata": {}
  },
  {
   "cell_type": "markdown",
   "source": [
    "L'erreur semble augmenter linéairement avec $\\sigma$."
   ],
   "metadata": {}
  },
  {
   "cell_type": "code",
   "execution_count": 12,
   "source": [
    "h = [1, 0.5]\n",
    "#\n",
    "ns = np.power(2, np.arange(10, 15))  \n",
    "sigma = 10\n",
    "for n in ns:\n",
    "    print(f\"n = {n}\")\n",
    "    print_part_1_1(h, n, sigma)"
   ],
   "outputs": [
    {
     "output_type": "stream",
     "name": "stdout",
     "text": [
      "h = [1, 0.5]\n",
      "h estimé = [0.63376832 0.71182258]\n",
      "Erreur = 0.37841188837099915\n",
      "h = [1, 0.5]\n",
      "h estimé = [1.5134464  0.96795778]\n",
      "Erreur = 0.6213608890601394\n",
      "h = [1, 0.5]\n",
      "h estimé = [1.02590009 0.67668717]\n",
      "Erreur = 0.15972268252185803\n",
      "h = [1, 0.5]\n",
      "h estimé = [0.97903893 0.7135991 ]\n",
      "Erreur = 0.1919665391736506\n",
      "h = [1, 0.5]\n",
      "h estimé = [1.00897438 0.60251827]\n",
      "Erreur = 0.09204579056164013\n"
     ]
    }
   ],
   "metadata": {}
  },
  {
   "cell_type": "code",
   "execution_count": null,
   "source": [
    "# Estimés\n",
    "p = 5\n",
    "\n",
    "h_estimated = util.moindres_carres(p, x, z)\n",
    "h_err = util.norm(h_estimated - h) / util.norm(h)\n",
    "\n",
    "plt.figure(figsize=(8, 6))\n",
    "plt.subplot(3, 1, 1)\n",
    "plt.title(\"h^1 estimé\")\n",
    "plt.plot(h_estimated)\n",
    "plt.subplot(3, 1, 2)\n",
    "plt.title(\"h réel\")\n",
    "plt.plot(h)\n",
    "plt.subplot(3, 1, 3)\n",
    "plt.title(\"Erreur\")\n",
    "plt.plot(h_err)"
   ],
   "outputs": [],
   "metadata": {}
  },
  {
   "cell_type": "markdown",
   "source": [
    "On déterminera la longueur de $h$ empiriquement.\n",
    "\n",
    "Si $h$ trop court, ça ne va pas fonctionner, si\n",
    "$h$ trop long les derniers coefficients seront nuls et on pourra réduire. On choisira $p$ tel que $h_n = 0, \\forall n \\geq p$ "
   ],
   "metadata": {}
  },
  {
   "cell_type": "markdown",
   "source": [
    "## 2 Le modèle auto-régressif pour la synthèse de parole\n",
    "\n",
    "$\\epsilon_n$ est tel que :\n",
    "$$\n",
    "X_n + h_1X_{n-1} + ... + h_p X_{n-p} = \\epsilon_n\n",
    "$$"
   ],
   "metadata": {}
  },
  {
   "cell_type": "markdown",
   "source": [
    "## 3 Estimation de la densité spectrale de puissance : périodogramme"
   ],
   "metadata": {}
  },
  {
   "cell_type": "markdown",
   "source": [],
   "metadata": {}
  }
 ],
 "metadata": {
  "kernelspec": {
   "name": "python3",
   "display_name": "Python 3.7.10 64-bit ('env_signal': conda)"
  },
  "language_info": {
   "name": "python",
   "version": "3.7.10",
   "mimetype": "text/x-python",
   "codemirror_mode": {
    "name": "ipython",
    "version": 3
   },
   "pygments_lexer": "ipython3",
   "nbconvert_exporter": "python",
   "file_extension": ".py"
  },
  "interpreter": {
   "hash": "84373995aafbcce26432dfc68e1e75ff7ed8166ee4aef3a2f2cf080eb133f7d7"
  }
 },
 "nbformat": 4,
 "nbformat_minor": 5
}