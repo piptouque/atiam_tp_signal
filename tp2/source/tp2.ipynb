{
 "cells": [
  {
   "source": [
    "import numpy as np\n",
    "import matplotlib.pyplot as plt\n",
    "import matplotlib.widgets as wid\n",
    "import scipy.signal as sig\n",
    "import scipy.signal.windows as win\n",
    "import scipy \n",
    "import scipy.io\n",
    "from scipy.signal import lfilter\n",
    "\n",
    "from numpy.random import default_rng\n",
    "rng = default_rng()\n",
    "\n",
    "import util"
   ],
   "cell_type": "code",
   "metadata": {},
   "execution_count": 30,
   "outputs": []
  },
  {
   "source": [
    "## 1. Étude Théorique : Analyse du mélange de deux processus"
   ],
   "cell_type": "code",
   "metadata": {},
   "execution_count": 31,
   "outputs": []
  },
  {
   "source": [
    "### Montrer que\n",
    "\n",
    "$$\n",
    "S_Z(\\nu) = S_Y(\\nu) + S_T(\\nu)\n",
    "$$"
   ],
   "cell_type": "markdown",
   "metadata": {}
  },
  {
   "source": [
    "On a $Z = h \\star X + Y$\n",
    "\n",
    "$h$ est stable, $X$ est SSL donc $T$ est SSL par le théorème de filtrage des processus SSL. Par le résultat admis, on a $T$ et $Y$ indépendants.\n",
    "\n",
    "On montre d'abord que $Z$ est SSL.\n",
    "\n",
    "1. On a, pour tout $n$,\n",
    "$$\n",
    "E(|T_n + Y_n|^2) = E(|T_n|^2 + 2 |T_nY_n| + |Y_n|^2)\n",
    "$$\n",
    "$$\n",
    "= E(|T_n|^2) + 2E(|T_nY_n|) + E(|Y_n|^2)\n",
    "$$\n",
    "Avec $T_n$ et $Y_n$ indépendants et SSL:\n",
    "$$\n",
    "= E(|T_n|^2) + E(|T_n|)E(|Y_n|) + E(|Y_n|^2) < +\\infty\n",
    "$$\n",
    "\n",
    "2. On a bien :\n",
    "$$\n",
    "E(Z_n) = E(T_n) + E(Y_n) = m_T + m_Y = m_Z, \\forall n\n",
    "$$\n",
    "\n",
    "3. On a :\n",
    "$$\n",
    "R_Z(k) = R_T(k) + R_Y(k) + E(T_{n+k}^{c}\\bar{Y_{n}^c}) + E(\\bar{T_{n}^c}Y_{n+k}^{c})\n",
    "$$\n",
    "Avec les termes de covariance nuls car $T$ et $Y$ sont indépendants :\n",
    "$$\n",
    "R_Z(k) = R_T(k) + R_Y(k)\n",
    "$$\n",
    "Ne dépend que de $k$, a fortiori :\n",
    "$$\n",
    "S_Z(\\nu) = S_T(\\nu) + S_Y(\\nu)\n",
    "$$"
   ],
   "cell_type": "markdown",
   "metadata": {}
  },
  {
   "source": [
    "### Montrer que\n",
    "\n",
    "Quelque soit la suite sommable $h^1$ et on notant $Z^1$ le processus $Z^1 = Z − h^1 ∗ X$ on a : \n",
    "\n",
    "$$\n",
    "R_{Z^1}(0) \\geq R_Y(0)\n",
    "$$\n",
    "Et si $R_{Z^1}(0) \\geq R_Y(0)$ alors $h^1 = h$.\n"
   ],
   "cell_type": "markdown",
   "metadata": {}
  },
  {
   "source": [
    "Par le calcul on a :\n",
    "$$\n",
    "R_{Z^1}(0) = R_Y(0) + R_{(h - h^1) ∗ X_n}(0) \\geq 0\n",
    "$$\n",
    "Soit :\n",
    "$$\n",
    "R_{Z^1}(0) \\geq R_Y(0)\n",
    "$$\n",
    "Et si $h^1 = h$ on obtient :\n",
    "$$\n",
    "R_{Z^1}(0) = R_Y(0) + R_{\\tilde{0} ∗ X_n}(0) = R_Y(0)\n",
    "$$"
   ],
   "cell_type": "markdown",
   "metadata": {}
  },
  {
   "source": [
    "### 1.1 Première application : Identifier un canal"
   ],
   "cell_type": "markdown",
   "metadata": {}
  },
  {
   "cell_type": "code",
   "execution_count": 32,
   "metadata": {},
   "outputs": [],
   "source": [
    "# Donnés\n",
    "n = 1000\n",
    "sigma = 0.1\n",
    "h = np.array([1, 0.5])\n",
    "# Calculés\n",
    "x = rng.random(n)\n",
    "y = sigma * rng.random(n)\n",
    "z = lfilter(h, [1], x) + y"
   ]
  },
  {
   "cell_type": "code",
   "execution_count": 33,
   "metadata": {},
   "outputs": [
    {
     "output_type": "error",
     "ename": "AttributeError",
     "evalue": "module 'util' has no attribute 'norm'",
     "traceback": [
      "\u001b[0;31m---------------------------------------------------------------------------\u001b[0m",
      "\u001b[0;31mAttributeError\u001b[0m                            Traceback (most recent call last)",
      "\u001b[0;32m/tmp/ipykernel_24015/3100619453.py\u001b[0m in \u001b[0;36m<module>\u001b[0;34m\u001b[0m\n\u001b[1;32m      3\u001b[0m \u001b[0;34m\u001b[0m\u001b[0m\n\u001b[1;32m      4\u001b[0m \u001b[0mh_estimated\u001b[0m \u001b[0;34m=\u001b[0m \u001b[0mutil\u001b[0m\u001b[0;34m.\u001b[0m\u001b[0mmoindres_carres\u001b[0m\u001b[0;34m(\u001b[0m\u001b[0mp\u001b[0m\u001b[0;34m,\u001b[0m \u001b[0mx\u001b[0m\u001b[0;34m,\u001b[0m \u001b[0mz\u001b[0m\u001b[0;34m)\u001b[0m\u001b[0;34m\u001b[0m\u001b[0;34m\u001b[0m\u001b[0m\n\u001b[0;32m----> 5\u001b[0;31m \u001b[0mh_err\u001b[0m \u001b[0;34m=\u001b[0m \u001b[0mutil\u001b[0m\u001b[0;34m.\u001b[0m\u001b[0mnorm\u001b[0m\u001b[0;34m(\u001b[0m\u001b[0mh_estimated\u001b[0m \u001b[0;34m-\u001b[0m \u001b[0mh\u001b[0m\u001b[0;34m)\u001b[0m \u001b[0;34m/\u001b[0m \u001b[0mutil\u001b[0m\u001b[0;34m.\u001b[0m\u001b[0mnorm\u001b[0m\u001b[0;34m(\u001b[0m\u001b[0mh\u001b[0m\u001b[0;34m)\u001b[0m\u001b[0;34m\u001b[0m\u001b[0;34m\u001b[0m\u001b[0m\n\u001b[0m\u001b[1;32m      6\u001b[0m \u001b[0;34m\u001b[0m\u001b[0m\n\u001b[1;32m      7\u001b[0m \u001b[0mplt\u001b[0m\u001b[0;34m.\u001b[0m\u001b[0mfigure\u001b[0m\u001b[0;34m(\u001b[0m\u001b[0mfigsize\u001b[0m\u001b[0;34m=\u001b[0m\u001b[0;34m(\u001b[0m\u001b[0;36m8\u001b[0m\u001b[0;34m,\u001b[0m \u001b[0;36m6\u001b[0m\u001b[0;34m)\u001b[0m\u001b[0;34m)\u001b[0m\u001b[0;34m\u001b[0m\u001b[0;34m\u001b[0m\u001b[0m\n",
      "\u001b[0;31mAttributeError\u001b[0m: module 'util' has no attribute 'norm'"
     ]
    }
   ],
   "source": [
    "# Estimés\n",
    "p = 5\n",
    "\n",
    "h_estimated = util.moindres_carres(p, x, z)\n",
    "h_err = util.norm(h_estimated - h) / util.norm(h)\n",
    "\n",
    "plt.figure(figsize=(8, 6))\n",
    "plt.subplot(3, 1, 1)\n",
    "plt.title(\"h^1 estimé\")\n",
    "plt.plot(h_estimated)\n",
    "plt.subplot(3, 1, 2)\n",
    "plt.title(\"h réel\")\n",
    "plt.plot(h)\n",
    "plt.subplot(3, 1, 3)\n",
    "plt.title(\"Erreur\")\n",
    "plt.plot(h_err)"
   ]
  },
  {
   "source": [
    "On déterminera la longueur de $h$ empiriquement.\n",
    "\n",
    "Si $h$ trop court, ça ne va pas fonctionner, si\n",
    "$h$ trop long les derniers coefficients seront nuls et on pourra réduire."
   ],
   "cell_type": "markdown",
   "metadata": {}
  },
  {
   "cell_type": "code",
   "execution_count": null,
   "metadata": {},
   "outputs": [],
   "source": []
  },
  {
   "source": [
    "## 2. Le modèle auto-régressif pour la synthèse de parole\n",
    "\n",
    "$\\epsilon_n$ est tel que :\n",
    "$$\n",
    "X_n + h_1X_{n-1} + ... + h_p X_{n-p} = \\epsilon_n\n",
    "$$"
   ],
   "cell_type": "markdown",
   "metadata": {}
  }
 ],
 "metadata": {
  "kernelspec": {
   "name": "python3",
   "display_name": "Python 3 (ipykernel)"
  }
 },
 "nbformat": 4,
 "nbformat_minor": 5
}