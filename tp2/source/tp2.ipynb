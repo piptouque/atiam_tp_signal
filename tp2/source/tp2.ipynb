{
 "cells": [
  {
   "cell_type": "code",
   "execution_count": 1,
   "source": [
    "import numpy as np\n",
    "import matplotlib.pyplot as plt\n",
    "import matplotlib.widgets as wid\n",
    "import scipy.signal as sig\n",
    "import scipy.signal.windows as win\n",
    "import scipy \n",
    "import scipy.io\n",
    "from scipy.signal import lfilter\n",
    "\n",
    "import numpy.random as rand\n",
    "\n",
    "import util"
   ],
   "outputs": [],
   "metadata": {}
  },
  {
   "cell_type": "markdown",
   "source": [
    "## 1. Étude Théorique : Analyse du mélange de deux processus"
   ],
   "metadata": {}
  },
  {
   "cell_type": "markdown",
   "source": [
    "### Montrer que\n",
    "\n",
    "$$\n",
    "S_Z(\\nu) = S_Y(\\nu) + S_T(\\nu)\n",
    "$$"
   ],
   "metadata": {}
  },
  {
   "cell_type": "markdown",
   "source": [
    "On a $Z = h \\star X + Y$\n",
    "\n",
    "$h$ est stable, $X$ est SSL donc $T$ est SSL par le théorème de filtrage des processus SSL. Par le résultat admis, on a $T$ et $Y$ indépendants.\n",
    "\n",
    "On montre d'abord que $Z$ est SSL.\n",
    "\n",
    "1. On a, pour tout $n$,\n",
    "$$\n",
    "E(|T_n + Y_n|^2) = E(|T_n|^2 + 2 |T_nY_n| + |Y_n|^2)\n",
    "$$\n",
    "$$\n",
    "= E(|T_n|^2) + 2E(|T_nY_n|) + E(|Y_n|^2)\n",
    "$$\n",
    "Avec $T_n$ et $Y_n$ indépendants et SSL:\n",
    "$$\n",
    "= E(|T_n|^2) + E(|T_n|)E(|Y_n|) + E(|Y_n|^2) < +\\infty\n",
    "$$\n",
    "\n",
    "2. On a bien :\n",
    "$$\n",
    "E(Z_n) = E(T_n) + E(Y_n) = m_T + m_Y = m_Z, \\forall n\n",
    "$$\n",
    "\n",
    "3. On a :\n",
    "$$\n",
    "R_Z(k) = R_T(k) + R_Y(k) + E(T_{n+k}^{c}\\bar{Y_{n}^c}) + E(\\bar{T_{n}^c}Y_{n+k}^{c})\n",
    "$$\n",
    "Avec les termes de covariance nuls car $T$ et $Y$ sont indépendants :\n",
    "$$\n",
    "R_Z(k) = R_T(k) + R_Y(k)\n",
    "$$\n",
    "Ne dépend que de $k$, a fortiori :\n",
    "$$\n",
    "S_Z(\\nu) = S_T(\\nu) + S_Y(\\nu)\n",
    "$$"
   ],
   "metadata": {}
  },
  {
   "cell_type": "markdown",
   "source": [
    "### Montrer que\n",
    "\n",
    "Quelque soit la suite sommable $h^1$ et on notant $Z^1$ le processus $Z^1 = Z − h^1 ∗ X$ on a : \n",
    "\n",
    "$$\n",
    "R_{Z^1}(0) \\geq R_Y(0)\n",
    "$$\n",
    "Et si $R_{Z^1}(0) \\geq R_Y(0)$ alors $h^1 = h$.\n"
   ],
   "metadata": {}
  },
  {
   "cell_type": "markdown",
   "source": [
    "Par le calcul on a :\n",
    "$$\n",
    "R_{Z^1}(0) = R_Y(0) + R_{(h - h^1) ∗ X_n}(0) \\geq 0\n",
    "$$\n",
    "Soit :\n",
    "$$\n",
    "R_{Z^1}(0) \\geq R_Y(0)\n",
    "$$\n",
    "Et si $h^1 = h$ on obtient :\n",
    "$$\n",
    "R_{Z^1}(0) = R_Y(0) + R_{\\tilde{0} ∗ X_n}(0) = R_Y(0)\n",
    "$$"
   ],
   "metadata": {}
  },
  {
   "cell_type": "markdown",
   "source": [
    "### 1.1 Première application : Identifier un canal"
   ],
   "metadata": {}
  },
  {
   "cell_type": "code",
   "execution_count": 17,
   "source": [
    "def part_1_1(x, h, n, sigma):\n",
    "    h = np.array(h)\n",
    "    y = sigma * rand.randn(n)\n",
    "    z = lfilter(h, [1], x) + y\n",
    "    # ici on connaît p, on peut l'écrire\n",
    "    p = len(h) - 1\n",
    "    h_estimated = util.moindres_carres(p, x, z)\n",
    "    h_err = util.norm(h_estimated - h) / util.norm(h)\n",
    "    return h_estimated, h_err\n",
    "\n",
    "def print_part_1_1(x, h, n, sigma):\n",
    "    h_estimated, h_err = part_1_1(x, h, n, sigma)\n",
    "    print(f\"h = {h}\")\n",
    "    print(f\"h estimé = {h_estimated}\")\n",
    "    print(f\"Erreur = {h_err}\")\n",
    "    return x, h_estimated\n"
   ],
   "outputs": [],
   "metadata": {}
  },
  {
   "cell_type": "code",
   "execution_count": 19,
   "source": [
    "# Donnés\n",
    "h = [1, 0.5]\n",
    "#\n",
    "n = 1000\n",
    "x = rand.randn(n)\n",
    "sigmas = [0.1, 1, 10]\n",
    "for sigma in sigmas:\n",
    "    print(f\"sigma = {sigma}\")\n",
    "    print_part_1_1(x, h, n, sigma)"
   ],
   "outputs": [
    {
     "output_type": "stream",
     "name": "stdout",
     "text": [
      "sigma = 0.1\n",
      "h = [1, 0.5]\n",
      "h estimé = [1.00006842 0.49429886]\n",
      "Erreur = 0.005099619588684389\n",
      "sigma = 1\n",
      "h = [1, 0.5]\n",
      "h estimé = [1.02414696 0.48781803]\n",
      "Erreur = 0.024190511425913233\n",
      "sigma = 10\n",
      "h = [1, 0.5]\n",
      "h estimé = [1.09945633 0.69074004]\n",
      "Erreur = 0.19240233909325208\n"
     ]
    }
   ],
   "metadata": {}
  },
  {
   "cell_type": "markdown",
   "source": [
    "L'erreur semble augmenter linéairement avec $\\sigma$."
   ],
   "metadata": {}
  },
  {
   "cell_type": "code",
   "execution_count": 20,
   "source": [
    "h = [1, 0.5]\n",
    "#\n",
    "ns = np.power(2, np.arange(10, 15))  \n",
    "sigma = 10\n",
    "for n in ns:\n",
    "    x = rand.randn(n)\n",
    "    print(f\"n = {n}\")\n",
    "    print_part_1_1(x, h, n, sigma)"
   ],
   "outputs": [
    {
     "output_type": "stream",
     "name": "stdout",
     "text": [
      "n = 1024\n",
      "h = [1, 0.5]\n",
      "h estimé = [0.5343664  0.40862675]\n",
      "Erreur = 0.42441839538099474\n",
      "n = 2048\n",
      "h = [1, 0.5]\n",
      "h estimé = [1.42265195 0.79836338]\n",
      "Erreur = 0.46273567280796213\n",
      "n = 4096\n",
      "h = [1, 0.5]\n",
      "h estimé = [1.07948675 0.29668384]\n",
      "Erreur = 0.19525491991640387\n",
      "n = 8192\n",
      "h = [1, 0.5]\n",
      "h estimé = [0.99326541 0.43430459]\n",
      "Erreur = 0.05906769873771628\n",
      "n = 16384\n",
      "h = [1, 0.5]\n",
      "h estimé = [1.01277303 0.48258328]\n",
      "Erreur = 0.01931822941823464\n"
     ]
    }
   ],
   "metadata": {}
  },
  {
   "cell_type": "markdown",
   "source": [
    "On note qu'en moyenne pour $\\sigma = 10$, il faut $N = 2^{14}$ pour obtenir une erreur relative $e \\leq 0.1$.\n",
    "\n",
    "On déterminera la longueur de $h$ empiriquement.\n",
    "\n",
    "Si $h$ trop court, ça ne va pas fonctionner, si\n",
    "$h$ trop long les derniers coefficients seront nuls et on pourra réduire. On choisira $p$ tel que $h_n = 0, \\forall n \\geq p$."
   ],
   "metadata": {}
  },
  {
   "cell_type": "code",
   "execution_count": 25,
   "source": [
    "h = [1, 0.5]\n",
    "#\n",
    "ns = np.power(2, np.arange(10, 15))  \n",
    "sigma = 1\n",
    "for n in ns:\n",
    "    x = np.zeros(n)\n",
    "    x[n//2] = 1\n",
    "    print(f\"n = {n}\")\n",
    "    print_part_1_1(x, h, n, sigma)"
   ],
   "outputs": [
    {
     "output_type": "stream",
     "name": "stdout",
     "text": [
      "n = 1024\n",
      "h = [1, 0.5]\n",
      "h estimé = [2.05769126 1.24623957]\n",
      "Erreur = 1.1577855758127114\n",
      "n = 2048\n",
      "h = [1, 0.5]\n",
      "h estimé = [-0.24558306  0.76583119]\n",
      "Erreur = 1.1391728126739546\n",
      "n = 4096\n",
      "h = [1, 0.5]\n",
      "h estimé = [0.34104511 2.60574057]\n",
      "Erreur = 1.973497382206029\n",
      "n = 8192\n",
      "h = [1, 0.5]\n",
      "h estimé = [2.30248725 0.30818466]\n",
      "Erreur = 1.1775452995365283\n",
      "n = 16384\n",
      "h = [1, 0.5]\n",
      "h estimé = [ 1.92842089 -0.40217315]\n",
      "Erreur = 1.1578883358970224\n"
     ]
    }
   ],
   "metadata": {}
  },
  {
   "cell_type": "markdown",
   "source": [
    "Prendre $X = \\delta[0]$ ne peut pas fonctionner pas car l'impulsion est absorbée dans le régime transitoire de $h$, et ne permet pas de le déterminer.\n",
    "Dans le cas plus général de $X = \\delta[a]$, la réponse impulsionnelle est absorbée par $X$, et on a le même problème."
   ],
   "metadata": {}
  },
  {
   "cell_type": "markdown",
   "source": [
    "### 1.2 Seconde application : Suppression d'un son qui en parasite un autre"
   ],
   "metadata": {}
  },
  {
   "cell_type": "code",
   "execution_count": 38,
   "source": [
    "def last_pred(pred, arr, axis, invalid_val=-1):\n",
    "    # trouver les indices des dernières valeurs vérifiant pred\n",
    "    # source : https://stackoverflow.com/a/47269413\n",
    "    mask = pred(arr)\n",
    "    val = arr.shape[axis] - np.flip(mask, axis=axis).argmax(axis=axis)\n",
    "    return np.where(mask.any(axis=axis), val, invalid_val)"
   ],
   "outputs": [],
   "metadata": {}
  },
  {
   "cell_type": "code",
   "execution_count": 48,
   "source": [
    "f_e = 44100\n",
    "mat = scipy.io.loadmat('parasite.mat')\n",
    "x_par = mat['Xparasite'].reshape(-1)\n",
    "z_par = mat['Zparasite'].reshape(-1)\n",
    "\n",
    "p_prior = 20 # assez grand\n",
    "h_estimated_prior = util.moindres_carres(p_prior, x_par, z_par)\n",
    "# p est le dernier indice avant h(n) = 0 stationnaire\n",
    "precision = 0.01\n",
    "p = len(h_estimated_prior) - 1 -  last_pred(lambda arr: np.abs(arr) < precision, np.flip(h_estimated_prior, axis=0), 0)\n",
    "# puis on réitère\n",
    "h_estimated = util.moindres_carres(p, x_par, z_par)\n",
    "print(f\"p = {p}\")\n",
    "p_err = (util.norm(h_estimated_prior) - util.norm(h_estimated))/util.norm(h_estimated)\n",
    "print(f\"Erreur par réduction de p: {p_err}\")\n",
    "y = z_par - lfilter(h_estimated, [1], x_par)\n",
    "\n",
    "# util.play(z_par, f_e)\n",
    "util.play(y_par, f_e)\n"
   ],
   "outputs": [
    {
     "output_type": "stream",
     "name": "stdout",
     "text": [
      "p = 3\n",
      "Erreur sur p: -5.537056913862415e-06\n"
     ]
    },
    {
     "output_type": "stream",
     "name": "stderr",
     "text": [
      "\n",
      "/tmp/tmpamdj24a8SON_TP.wav:\n",
      "\n",
      " File Size: 198k      Bit Rate: 706k\n",
      "  Encoding: Signed PCM    \n",
      "  Channels: 1 @ 16-bit   \n",
      "Samplerate: 44100Hz      \n",
      "Replaygain: off         \n",
      "  Duration: 00:00:02.25  \n",
      "\n",
      "In:100%  00:00:02.25 [00:00:00.00] Out:99.2k [ -====|====- ] Hd:0.0 Clip:0    \n",
      "Done.\n"
     ]
    }
   ],
   "metadata": {}
  },
  {
   "cell_type": "code",
   "execution_count": null,
   "source": [],
   "outputs": [],
   "metadata": {}
  },
  {
   "cell_type": "markdown",
   "source": [
    "## 2 Le modèle auto-régressif pour la synthèse de parole\n",
    "\n",
    "$\\epsilon_n$ est tel que :\n",
    "$$\n",
    "X_n + h_1X_{n-1} + ... + h_p X_{n-p} = \\epsilon_n\n",
    "$$"
   ],
   "metadata": {}
  },
  {
   "cell_type": "markdown",
   "source": [
    "## 3 Estimation de la densité spectrale de puissance : périodogramme"
   ],
   "metadata": {}
  },
  {
   "cell_type": "markdown",
   "source": [],
   "metadata": {}
  }
 ],
 "metadata": {
  "kernelspec": {
   "name": "python3",
   "display_name": "Python 3.7.10 64-bit ('env_signal': conda)"
  },
  "language_info": {
   "name": "python",
   "version": "3.7.10",
   "mimetype": "text/x-python",
   "codemirror_mode": {
    "name": "ipython",
    "version": 3
   },
   "pygments_lexer": "ipython3",
   "nbconvert_exporter": "python",
   "file_extension": ".py"
  },
  "interpreter": {
   "hash": "84373995aafbcce26432dfc68e1e75ff7ed8166ee4aef3a2f2cf080eb133f7d7"
  }
 },
 "nbformat": 4,
 "nbformat_minor": 5
}